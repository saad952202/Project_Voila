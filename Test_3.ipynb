{
 "cells": [
  {
   "cell_type": "code",
   "execution_count": 19,
   "id": "be799450",
   "metadata": {},
   "outputs": [],
   "source": [
    "import ipywidgets as widgets\n",
    "import math\n",
    "import numpy as np\n",
    "from ipywidgets import HBox, Layout, interact"
   ]
  },
  {
   "cell_type": "code",
   "execution_count": 20,
   "id": "346558f0",
   "metadata": {},
   "outputs": [],
   "source": [
    "title = widgets.HTML(value='<p><font face=\"courier\" size=\"4.5\" color=\"blue\"><b><center>Equation Solver')\n",
    "no_solution = widgets.HTML(value='<p><font face=\"arial\" size=\"2.0\" color=\"blue\"><b>No Solver is Selected')\n",
    "linear_solution = widgets.HTML(value='<p><font face=\"arial\" size=\"2.0\" color=\"blue\"><b>Linear Equation Solver')\n",
    "quadratic_solution = widgets.HTML(value='<p><font face=\"arial\" size=\"2.0\" color=\"blue\"><b>Quadratic Equation Solver')"
   ]
  },
  {
   "cell_type": "code",
   "execution_count": 21,
   "id": "116a4334",
   "metadata": {},
   "outputs": [
    {
     "data": {
      "application/vnd.jupyter.widget-view+json": {
       "model_id": "73d486fc62a94409864a8ad68101319e",
       "version_major": 2,
       "version_minor": 0
      },
      "text/plain": [
       "HTML(value='<p><font face=\"courier\" size=\"4.5\" color=\"blue\"><b><center>Equation Solver')"
      ]
     },
     "metadata": {},
     "output_type": "display_data"
    }
   ],
   "source": [
    "title"
   ]
  },
  {
   "cell_type": "code",
   "execution_count": 22,
   "id": "af260f19",
   "metadata": {},
   "outputs": [],
   "source": [
    "x1 = widgets.FloatSlider(description='$x1$', value=1)\n",
    "y1 = widgets.FloatSlider(description='$y1$', value=1.1)\n",
    "x2 = widgets.FloatSlider(description='$x2$', value=1, continuous_update=True)\n",
    "y2 = widgets.FloatSlider(description='$y2$', value=1, continuous_update=True)\n",
    "c1 = widgets.FloatSlider(description='$constant1$', value=1, continuous_update=True)\n",
    "c2 = widgets.FloatSlider(description='$constant2$', value=1, continuous_update=True)\n",
    "a = widgets.FloatSlider(description='$a$', value=1)\n",
    "b = widgets.FloatSlider(description='$b$',value=None)\n",
    "c = widgets.FloatSlider(description='$c$', value=None)"
   ]
  },
  {
   "cell_type": "code",
   "execution_count": 23,
   "id": "108f97af",
   "metadata": {},
   "outputs": [],
   "source": [
    "style = {'description_width': 'initial'}\n",
    "solver = widgets.Dropdown(\n",
    "        options=['None', 'Linear', 'Quadratic'],\n",
    "        description='Type of Equation',\n",
    "        disabled=False,\n",
    "        style = style, value=None)"
   ]
  },
  {
   "cell_type": "code",
   "execution_count": 24,
   "id": "28472cce",
   "metadata": {},
   "outputs": [],
   "source": [
    "def handle_slider_change(solver):\n",
    "    if solver.options == 'None':\n",
    "        widgets.HBox([\"No Solver is Selected\"])\n",
    "    elif solver.options == 'Linear':\n",
    "        widgets.VBox([x1, x2, y1, y2, c1, c2])\n",
    "    else:\n",
    "        widgets.VBox([a, b, c])\n",
    "\n",
    "solver.observe(handle_slider_change, names='new')"
   ]
  },
  {
   "cell_type": "code",
   "execution_count": 28,
   "id": "f9d1297e",
   "metadata": {},
   "outputs": [],
   "source": [
    "def my_function_1(x1, x2, y1, y2, c1, c2):\n",
    "        #Linear\n",
    "        A = np.array([[x1,x2], [y1,y2]])\n",
    "        B = np.array([[c1], [c2]])\n",
    "        X = np.linalg.inv(A).dot(B)\n",
    "        print('The value of x is:',X[0],'\\nThe value of y is:', X[1])\n",
    "        #'Quadratic\n",
    "        root_1 = []\n",
    "        root_2 = []\n",
    "\n",
    "      \n",
    "def my_function_2(a, b, c):\n",
    "      # calculating discriminant using formula\n",
    "        dis = b * b - 4 * a * c\n",
    "        sqrt_val = math.sqrt(abs(dis))\n",
    "    # checking condition for discriminant\n",
    "        if dis > 0: \n",
    "            #print(\" real and different roots \") \n",
    "            root_1 = (-b + sqrt_val)/(2 * a) \n",
    "            root_2 = (-b - sqrt_val)/(2 * a)\n",
    "        elif dis == 0: \n",
    "            #print(\" real and same roots\") \n",
    "            root_1 = -b / (2 * a)\n",
    "            root_2 = root_1\n",
    "        # when discriminant is less than 0\n",
    "        else:\n",
    "            root_1 = - b / (2 * a), \" + i\", sqrt_val \n",
    "            root_2 = - b / (2 * a), \" - i\", sqrt_val\n",
    "        print('First root is:',root_1,'\\nSecond root is:', root_2)\n",
    "\n",
    "out_1=widgets.interactive_output(my_function_1,{'x1' : x1,'x2' : x2,'y1': y1,'y2': y2,'c1' : c1,'c2': c2});\n",
    "out_2=widgets.interactive_output(my_function_2,{'a': a, 'b': b, 'c': c});\n",
    "\n",
    "box_layout =  Layout(flex='flex-shrink',flex_flow ='direction',justify_content='space-between',align_item='center')"
   ]
  },
  {
   "cell_type": "code",
   "execution_count": 29,
   "id": "6b1522bf",
   "metadata": {},
   "outputs": [],
   "source": [
    "combination_1 = widgets.VBox([linear_solution, x1, x2, y1, y2, c1, c2, out_1])\n",
    "combination_2 = widgets.VBox([quadratic_solution,a, b, c, out_2])"
   ]
  },
  {
   "cell_type": "code",
   "execution_count": 30,
   "id": "3e1770a5",
   "metadata": {},
   "outputs": [
    {
     "data": {
      "application/vnd.jupyter.widget-view+json": {
       "model_id": "a4595ce02a224ed0b8ecfbc4e5872f18",
       "version_major": 2,
       "version_minor": 0
      },
      "text/plain": [
       "HBox(children=(VBox(children=(HTML(value='<p><font face=\"arial\" size=\"2.0\" color=\"blue\"><b>Linear Equation Sol…"
      ]
     },
     "metadata": {},
     "output_type": "display_data"
    }
   ],
   "source": [
    "# display(x1, x2, y1, y2, c1, c2, a, b, c)\n",
    "widgets.HBox([combination_1, combination_2],layout=box_layout)"
   ]
  },
  {
   "cell_type": "code",
   "execution_count": null,
   "id": "0b50c4cd",
   "metadata": {},
   "outputs": [],
   "source": []
  }
 ],
 "metadata": {
  "kernelspec": {
   "display_name": "Python 3",
   "language": "python",
   "name": "python3"
  },
  "language_info": {
   "codemirror_mode": {
    "name": "ipython",
    "version": 3
   },
   "file_extension": ".py",
   "mimetype": "text/x-python",
   "name": "python",
   "nbconvert_exporter": "python",
   "pygments_lexer": "ipython3",
   "version": "3.8.8"
  }
 },
 "nbformat": 4,
 "nbformat_minor": 5
}
