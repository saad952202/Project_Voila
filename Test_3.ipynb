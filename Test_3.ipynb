{
 "cells": [
  {
   "cell_type": "code",
   "execution_count": 30,
   "id": "1223b92a",
   "metadata": {},
   "outputs": [],
   "source": [
    "import ipywidgets as widgets\n",
    "import math\n",
    "import numpy as np\n",
    "from ipywidgets import HBox, Layout, interact"
   ]
  },
  {
   "cell_type": "code",
   "execution_count": 31,
   "id": "f4704b9b",
   "metadata": {},
   "outputs": [],
   "source": [
    "title = widgets.HTML(value='<p><font face=\"courier\" size=\"4.5\" color=\"blue\"><b><center>Equation Solver')\n",
    "no_solution = widgets.HTML(value='<p><font face=\"arial\" size=\"2.0\" color=\"blue\"><b>No Solver is Selected')\n",
    "linear_solution = widgets.HTML(value='<p><font face=\"arial\" size=\"2.0\" color=\"blue\"><b>Linear Equation Solver')\n",
    "quadratic_solution = widgets.HTML(value='<p><font face=\"arial\" size=\"2.0\" color=\"blue\"><b>Quadratic Equation Solver')"
   ]
  },
  {
   "cell_type": "code",
   "execution_count": 32,
   "id": "dcdc1d09",
   "metadata": {},
   "outputs": [
    {
     "data": {
      "application/vnd.jupyter.widget-view+json": {
       "model_id": "bd7c834b63324b08b33bf27a5b03fcaa",
       "version_major": 2,
       "version_minor": 0
      },
      "text/plain": [
       "HTML(value='<p><font face=\"courier\" size=\"4.5\" color=\"blue\"><b><center>Equation Solver')"
      ]
     },
     "metadata": {},
     "output_type": "display_data"
    }
   ],
   "source": [
    "title"
   ]
  },
  {
   "cell_type": "code",
   "execution_count": 33,
   "id": "6970c9eb",
   "metadata": {},
   "outputs": [],
   "source": [
    "x1 = widgets.FloatSlider(description='$x1$', value=1)\n",
    "y1 = widgets.FloatSlider(description='$y1$', value=1.1)\n",
    "x2 = widgets.FloatSlider(description='$x2$', value=1, continuous_update=True)\n",
    "y2 = widgets.FloatSlider(description='$y2$', value=1, continuous_update=True)\n",
    "c1 = widgets.FloatSlider(description='$constant1$', value=1, continuous_update=True)\n",
    "c2 = widgets.FloatSlider(description='$constant2$', value=1, continuous_update=True)\n",
    "a = widgets.FloatSlider(description='$a$', value=1)\n",
    "b = widgets.FloatSlider(description='$b$',value=None)\n",
    "c = widgets.FloatSlider(description='$c$', value=None)"
   ]
  },
  {
   "cell_type": "code",
   "execution_count": 34,
   "id": "25752928",
   "metadata": {},
   "outputs": [],
   "source": [
    "style = {'description_width': 'initial'}\n",
    "solver = widgets.Dropdown(\n",
    "        options=['None', 'Linear', 'Quadratic'],\n",
    "        description='Type of Equation',\n",
    "        disabled=False,\n",
    "        style = style, value=None)"
   ]
  },
  {
   "cell_type": "code",
   "execution_count": 35,
   "id": "bad13f9c",
   "metadata": {},
   "outputs": [],
   "source": [
    "def handle_slider_change(solver):\n",
    "    if solver.options == 'None':\n",
    "        widgets.HBox([\"No Solver is Selected\"])\n",
    "    elif solver.options == 'Linear':\n",
    "        widgets.VBox([x1, x2, y1, y2, c1, c2])\n",
    "    else:\n",
    "        widgets.VBox([a, b, c])\n",
    "\n",
    "solver.observe(handle_slider_change, names='new')"
   ]
  },
  {
   "cell_type": "code",
   "execution_count": 36,
   "id": "cfd8298f",
   "metadata": {},
   "outputs": [],
   "source": [
    "def my_function(x1, x2, y1, y2, c1, c2, a, b, c):\n",
    "        #Linear\n",
    "        A = np.array([[x1,x2], [y1,y2]])\n",
    "        B = np.array([[c1], [c2]])\n",
    "        X = np.linalg.inv(A).dot(B)\n",
    "        print('The value of x is:',X[0],'\\nThe value of y is:', X[1])\n",
    "        #'Quadratic\n",
    "        root_1 = []\n",
    "        root_2 = []\n",
    "         # calculating discriminant using formula\n",
    "        dis = b * b - 4 * a * c\n",
    "        sqrt_val = math.sqrt(abs(dis))\n",
    "        # checking condition for discriminant\n",
    "        if dis > 0: \n",
    "            #print(\" real and different roots \") \n",
    "            root_1 = (-b + sqrt_val)/(2 * a) \n",
    "            root_2 = (-b - sqrt_val)/(2 * a)\n",
    "        elif dis == 0: \n",
    "            #print(\" real and same roots\") \n",
    "            root_1 = -b / (2 * a)\n",
    "            root_2 = root_1\n",
    "        # when discriminant is less than 0\n",
    "        else:\n",
    "            root_1 = - b / (2 * a), \" + i\", sqrt_val \n",
    "            root_2 = - b / (2 * a), \" - i\", sqrt_val\n",
    "        print('First root is:',root_1,'\\nSecond root is:', root_2)\n",
    "\n",
    "out=widgets.interactive_output(my_function,{'x1' : x1,'x2' : x2,'y1': y1,'y2': y2,'c1' : c1,'c2': c2, 'a': a, 'b': b, 'c':c});\n",
    "\n",
    "box_layout =  Layout(flex='flex-shrink',flex_flow ='direction',justify_content='space-between',align_item='center')"
   ]
  },
  {
   "cell_type": "code",
   "execution_count": 38,
   "id": "c9d970e8",
   "metadata": {},
   "outputs": [
    {
     "data": {
      "application/vnd.jupyter.widget-view+json": {
       "model_id": "9924901abb10482d98e5a2496d835c13",
       "version_major": 2,
       "version_minor": 0
      },
      "text/plain": [
       "FloatSlider(value=1.0, description='$x1$')"
      ]
     },
     "metadata": {},
     "output_type": "display_data"
    },
    {
     "data": {
      "application/vnd.jupyter.widget-view+json": {
       "model_id": "9f116c8a4b674b88bb928eb013487f95",
       "version_major": 2,
       "version_minor": 0
      },
      "text/plain": [
       "FloatSlider(value=1.0, description='$x2$')"
      ]
     },
     "metadata": {},
     "output_type": "display_data"
    },
    {
     "data": {
      "application/vnd.jupyter.widget-view+json": {
       "model_id": "d273f58f85a84a199274bdf3a9fd1705",
       "version_major": 2,
       "version_minor": 0
      },
      "text/plain": [
       "FloatSlider(value=1.1, description='$y1$')"
      ]
     },
     "metadata": {},
     "output_type": "display_data"
    },
    {
     "data": {
      "application/vnd.jupyter.widget-view+json": {
       "model_id": "aa7f59413538400eb2e29d1cd69cc4ae",
       "version_major": 2,
       "version_minor": 0
      },
      "text/plain": [
       "FloatSlider(value=1.0, description='$y2$')"
      ]
     },
     "metadata": {},
     "output_type": "display_data"
    },
    {
     "data": {
      "application/vnd.jupyter.widget-view+json": {
       "model_id": "b93780e7d5e146ddb66e44685c5f47d2",
       "version_major": 2,
       "version_minor": 0
      },
      "text/plain": [
       "FloatSlider(value=1.0, description='$constant1$')"
      ]
     },
     "metadata": {},
     "output_type": "display_data"
    },
    {
     "data": {
      "application/vnd.jupyter.widget-view+json": {
       "model_id": "e406e081028247938e79b35845e4822d",
       "version_major": 2,
       "version_minor": 0
      },
      "text/plain": [
       "FloatSlider(value=1.0, description='$constant2$')"
      ]
     },
     "metadata": {},
     "output_type": "display_data"
    },
    {
     "data": {
      "application/vnd.jupyter.widget-view+json": {
       "model_id": "d207179248ce4638b53715166d92186f",
       "version_major": 2,
       "version_minor": 0
      },
      "text/plain": [
       "FloatSlider(value=1.0, description='$a$')"
      ]
     },
     "metadata": {},
     "output_type": "display_data"
    },
    {
     "data": {
      "application/vnd.jupyter.widget-view+json": {
       "model_id": "bee705300fb3415b8b0783990ff03c8d",
       "version_major": 2,
       "version_minor": 0
      },
      "text/plain": [
       "FloatSlider(value=0.0, description='$b$')"
      ]
     },
     "metadata": {},
     "output_type": "display_data"
    },
    {
     "data": {
      "application/vnd.jupyter.widget-view+json": {
       "model_id": "eda9bce591384da99af1cf1910bde494",
       "version_major": 2,
       "version_minor": 0
      },
      "text/plain": [
       "FloatSlider(value=0.0, description='$c$')"
      ]
     },
     "metadata": {},
     "output_type": "display_data"
    },
    {
     "data": {
      "application/vnd.jupyter.widget-view+json": {
       "model_id": "b85dc412bf9946f8b4b9e63044eec65b",
       "version_major": 2,
       "version_minor": 0
      },
      "text/plain": [
       "HBox(children=(Output(outputs=({'name': 'stdout', 'text': 'The value of x is: [0.] \\nThe value of y is: [1.]\\n…"
      ]
     },
     "metadata": {},
     "output_type": "display_data"
    }
   ],
   "source": [
    "display(x1, x2, y1, y2, c1, c2, a, b, c)\n",
    "widgets.HBox([out], layout= box_layout)"
   ]
  },
  {
   "cell_type": "code",
   "execution_count": null,
   "id": "3d062f47",
   "metadata": {},
   "outputs": [],
   "source": []
  }
 ],
 "metadata": {
  "kernelspec": {
   "display_name": "Python 3",
   "language": "python",
   "name": "python3"
  },
  "language_info": {
   "codemirror_mode": {
    "name": "ipython",
    "version": 3
   },
   "file_extension": ".py",
   "mimetype": "text/x-python",
   "name": "python",
   "nbconvert_exporter": "python",
   "pygments_lexer": "ipython3",
   "version": "3.8.8"
  }
 },
 "nbformat": 4,
 "nbformat_minor": 5
}
